{
 "cells": [
  {
   "cell_type": "code",
   "execution_count": 71,
   "id": "027ee8a2-d610-41ce-a687-578e8b7420e0",
   "metadata": {
    "tags": []
   },
   "outputs": [
    {
     "data": {
      "text/latex": [
       "$\\displaystyle y = \\left\\{ x : - \\frac{13500.0 α \\cos{\\left(3.14159265358979 α \\right)}}{45.0 α \\cos{\\left(3.14159265358979 α \\right)} - 112.0 \\sin{\\left(3.14159265358979 α \\right)}}, \\  y : - \\frac{13500.0 α \\sin{\\left(3.14159265358979 α \\right)}}{45.0 α \\cos{\\left(3.14159265358979 α \\right)} - 112.0 \\sin{\\left(3.14159265358979 α \\right)}}\\right\\}$"
      ],
      "text/plain": [
       "<IPython.core.display.Math object>"
      ]
     },
     "metadata": {},
     "output_type": "display_data"
    }
   ],
   "source": [
    "import sympy as sp\n",
    "from IPython.display import display, Math\n",
    "\n",
    "# Variable t\n",
    "alpha = sp.Symbol('α',real=True, positive=True, domain=(0, 1))\n",
    "aspect_rat = 16/9\n",
    "throw_rat = 1.4\n",
    "height = alpha *1/(throw_rat*aspect_rat)\n",
    "widths = 1\n",
    "\n",
    "tau  = sp.Symbol('τ',real=True)\n",
    "lamba =  sp.Symbol('λ',real=True)\n",
    "\n",
    "y  = sp.Symbol('y',real=True)\n",
    "x =  sp.Symbol('x',real=True)\n",
    "coord =   sp.Matrix([x, y])\n",
    "\n",
    "\n",
    "#position fly = origin\n",
    "fly =  sp.Matrix([0, 0])\n",
    "\n",
    "# sherical curve\n",
    "spherical_curve = sp.Matrix([sp.cos(alpha*sp.pi), sp.sin(alpha*sp.pi)])\n",
    "\n",
    "#position projector \n",
    "projector =  sp.Matrix([-300, 0])\n",
    "screen_line =  sp.Matrix([1, height])\n",
    "\n",
    "equation = sp.Eq(tau*spherical_curve,lamba*screen_line+projector)\n",
    "solution = sp.solve(equation, (tau, lamba))\n",
    "\n",
    "#print(sp.simplify(solution))\n",
    "\n",
    "equation = sp.Eq(coord ,   spherical_curve*-13500.0*alpha/(45.0*alpha*sp.cos(3.14159265358979*alpha) - 112.0*sp.sin(3.14159265358979*alpha))     )\n",
    "solution = sp.solve(equation, (x, y))\n",
    "#print(sp.simplify(solution))\n",
    "\n",
    "\n",
    "display(Math(f'y = {sp.latex(solution)}'))\n"
   ]
  },
  {
   "cell_type": "code",
   "execution_count": 70,
   "id": "74b8ceb9-5d64-4d18-a089-6957aa84c9af",
   "metadata": {
    "tags": []
   },
   "outputs": [
    {
     "data": {
      "text/plain": [
       "[<matplotlib.lines.Line2D at 0x27b36855488>]"
      ]
     },
     "execution_count": 70,
     "metadata": {},
     "output_type": "execute_result"
    },
    {
     "data": {
      "image/png": "[encoded data removed]",
      "text/plain": [
       "<Figure size 800x400 with 1 Axes>"
      ]
     },
     "metadata": {},
     "output_type": "display_data"
    }
   ],
   "source": [
    "import numpy as np\n",
    "import pylab as plt\n",
    "\n",
    "\n",
    "a = np.linspace(0.0001,0.9999,100)\n",
    "x = -13500.0*a*np.cos(np.pi*a)/(45.0*a*np.cos(np.pi*a) - 112.0*np.sin(np.pi*a))\n",
    "y = -13500.0*a*np.sin(np.pi*a)/(45.0*a*np.cos(np.pi*a) - 112.0*np.sin(np.pi*a))\n",
    "\n",
    "plt.figure(figsize = (8,4))\n",
    "plt.xlim(-300,100)\n",
    "plt.ylim(0,200)\n",
    "plt.plot(x,y)\n",
    "\n"
   ]
  },
  {
   "cell_type": "code",
   "execution_count": 69,
   "id": "c2250f35-65d3-40f5-8e05-9df4b6fdb39a",
   "metadata": {
    "tags": []
   },
   "outputs": [
    {
     "data": {
      "text/latex": [
       "$\\displaystyle α ={\\alpha \\in \\mathbb{R}, \\quad 0 \\leq \\alpha \\leq 1}$"
      ],
      "text/plain": [
       "<IPython.core.display.Math object>"
      ]
     },
     "metadata": {},
     "output_type": "display_data"
    },
    {
     "data": {
      "text/latex": [
       "$\\displaystyle Fly =\\left[\\begin{matrix}\\cos{\\left(\\pi α \\right)}\\\\\\sin{\\left(\\pi α \\right)}\\end{matrix}\\right]$"
      ],
      "text/plain": [
       "<IPython.core.display.Math object>"
      ]
     },
     "metadata": {},
     "output_type": "display_data"
    },
    {
     "data": {
      "text/latex": [
       "$\\displaystyle Projector =\\left[\\begin{matrix}1\\\\\\frac{α}{r_{aspect} r_{throw}}\\end{matrix}\\right]$"
      ],
      "text/plain": [
       "<IPython.core.display.Math object>"
      ]
     },
     "metadata": {},
     "output_type": "display_data"
    },
    {
     "data": {
      "text/latex": [
       "$\\displaystyle Intersection = \\left[\\begin{matrix}\\cos{\\left(\\pi α \\right)}\\\\\\sin{\\left(\\pi α \\right)}\\end{matrix}\\right] = \\left[\\begin{matrix}d_{proj} + 1\\\\\\frac{α}{r_{aspect} r_{throw}}\\end{matrix}\\right]$"
      ],
      "text/plain": [
       "<IPython.core.display.Math object>"
      ]
     },
     "metadata": {},
     "output_type": "display_data"
    },
    {
     "data": {
      "text/latex": [
       "$\\displaystyle  Intersection = \\left[\\begin{matrix}τ \\cos{\\left(\\pi α \\right)}\\\\τ \\sin{\\left(\\pi α \\right)}\\end{matrix}\\right] = \\left[\\begin{matrix}d_{proj} + λ\\\\\\frac{α λ}{r_{aspect} r_{throw}}\\end{matrix}\\right]$"
      ],
      "text/plain": [
       "<IPython.core.display.Math object>"
      ]
     },
     "metadata": {},
     "output_type": "display_data"
    },
    {
     "data": {
      "text/latex": [
       "$\\displaystyle coordinates = \\left[\\begin{matrix}x\\\\y\\end{matrix}\\right] = \\left[\\begin{matrix}- \\frac{d_{proj} α \\cos{\\left(\\pi α \\right)}}{r_{aspect} r_{throw} \\sin{\\left(\\pi α \\right)} - α \\cos{\\left(\\pi α \\right)}}\\\\- \\frac{d_{proj} α \\sin{\\left(\\pi α \\right)}}{r_{aspect} r_{throw} \\sin{\\left(\\pi α \\right)} - α \\cos{\\left(\\pi α \\right)}}\\end{matrix}\\right]$"
      ],
      "text/plain": [
       "<IPython.core.display.Math object>"
      ]
     },
     "metadata": {},
     "output_type": "display_data"
    },
    {
     "data": {
      "text/latex": [
       "$\\displaystyle coordinates = \\left\\{ x : \\frac{d_{proj} α \\cos{\\left(\\pi α \\right)}}{- r_{aspect} r_{throw} \\sin{\\left(\\pi α \\right)} + α \\cos{\\left(\\pi α \\right)}}, \\  y : \\frac{d_{proj} α \\sin{\\left(\\pi α \\right)}}{- r_{aspect} r_{throw} \\sin{\\left(\\pi α \\right)} + α \\cos{\\left(\\pi α \\right)}}\\right\\}$"
      ],
      "text/plain": [
       "<IPython.core.display.Math object>"
      ]
     },
     "metadata": {},
     "output_type": "display_data"
    }
   ],
   "source": [
    "import sympy as sp\n",
    "from IPython.display import display, Math\n",
    "\n",
    "# Variable t\n",
    "alpha = sp.Symbol('α',real=True, positive=True, domain=(0, 1))\n",
    "aspect_rat = sp.Symbol('r_aspect',real=True)\n",
    "throw_rat = sp.Symbol('r_throw',real=True)\n",
    "height = alpha *1/(throw_rat*aspect_rat)\n",
    "widths = 1\n",
    "\n",
    "tau  = sp.Symbol('τ',real=True)\n",
    "lamba =  sp.Symbol('λ',real=True)\n",
    "\n",
    "y  = sp.Symbol('y',real=True)\n",
    "x =  sp.Symbol('x',real=True)\n",
    "coord =   sp.Matrix([x, y])\n",
    "\n",
    "display(Math(r\"α ={\\alpha \\in \\mathbb{R}, \\quad 0 \\leq \\alpha \\leq 1}\"))\n",
    "#position fly = origin\n",
    "fly =  sp.Matrix([0, 0])\n",
    "\n",
    "# sherical curve\n",
    "spherical_curve = sp.Matrix([sp.cos(alpha*sp.pi), sp.sin(alpha*sp.pi)])\n",
    "display(Math(f'Fly ={sp.latex(spherical_curve)}'))\n",
    "#(Math(r'F(k) = \\int_{-\\infty}^{\\infty} f(x) e^{2\\pi i k} dx')\n",
    "\n",
    "d = sp.Symbol('d_proj',real=True)\n",
    "\n",
    "#position projector \n",
    "projector =  sp.Matrix([d, 0])\n",
    "screen_line =  sp.Matrix([1, height])\n",
    "\n",
    "display(Math(f'Projector ={sp.latex(screen_line)}'))\n",
    "equation2 = sp.Eq(spherical_curve+fly,screen_line+projector)\n",
    "display(Math(f'Intersection = {sp.latex(equation2)}'))\n",
    "\n",
    "equation = sp.Eq(tau*spherical_curve+fly,lamba*screen_line+projector)\n",
    "display(Math(f' Intersection = {sp.latex(equation)}'))\n",
    "\n",
    "solution = sp.solve(equation, (tau, lamba))\n",
    "\n",
    "#print(sp.simplify(solution))\n",
    "\n",
    "equation = sp.Eq(coord ,   spherical_curve*-d*alpha/(aspect_rat*throw_rat*sp.sin(sp.pi*alpha) - alpha*sp.cos(sp.pi*alpha))     )\n",
    "solution = sp.solve(equation, (x, y))\n",
    "#print(sp.simplify(solution))\n",
    "\n",
    "display(Math(f'coordinates = {sp.latex(equation)}'))\n",
    "display(Math(f'coordinates = {sp.latex(solution)}'))"
   ]
  },
  {
   "cell_type": "markdown",
   "id": "5122c924-d569-4710-baeb-33706c6f40f6",
   "metadata": {
    "tags": []
   },
   "source": []
  },
  {
   "cell_type": "markdown",
   "id": "ddbbdbc8-6a2a-4754-8e14-f057fbce4387",
   "metadata": {},
   "source": [
    "Given: Fly @ Position (0,0) Projector @ Position (d_proj,0) and   \n",
    "$$ {\\alpha \\in \\mathbb{R}, \\quad 0 \\leq \\alpha \\leq 1} $$\n",
    "\n",
    "$$ \\vec{Fly(α)} =\\left[\\begin{matrix}\\cos{\\left(\\pi α \\right)}\\\\\\sin{\\left(\\pi α \\right)}\\end{matrix}\\right] + \\left[\\begin{matrix}0\\\\0\\end{matrix}\\right] $$\n",
    "\n",
    "$$ \\vec{Projector(α)} =\\left[\\begin{matrix}1\\\\\\frac{α}{r_{aspect} r_{throw}}\\end{matrix}\\right] + \\left[\\begin{matrix}d_{proj}\\\\0\\end{matrix}\\right] $$\n",
    "\n",
    "$$ \\vec{Intersection(α)} = τ\\left[\\begin{matrix}\\cos{\\left(\\pi α \\right)}\\\\\\sin{\\left(\\pi α \\right)}\\end{matrix}\\right] = λ\\left[\\begin{matrix}1 + d_{proj}\\\\\\frac{α}{r_{aspect} r_{throw}}\\end{matrix}\\right]$$\n",
    "\n",
    "$$\\vec{ coordinates(α) }= \\left[\\begin{matrix}x\\\\y\\end{matrix}\\right] = \\left[\\begin{matrix}- \\frac{d_{proj} α \\cos{\\left(\\pi α \\right)}}{r_{aspect} r_{throw} \\sin{\\left(\\pi α \\right)} - α \\cos{\\left(\\pi α \\right)}}\\\\- \\frac{d_{proj} α \\sin{\\left(\\pi α \\right)}}{r_{aspect} r_{throw} \\sin{\\left(\\pi α \\right)} - α \\cos{\\left(\\pi α \\right)}}\\end{matrix}\\right]$$"
   ]
  },
  {
   "cell_type": "markdown",
   "id": "d6a3bbe5-28f4-4d7d-a40c-7e6e93544a11",
   "metadata": {},
   "source": []
  },
  {
   "cell_type": "code",
   "execution_count": null,
   "id": "5d5a7bed-2641-44d7-a271-c4b11dc0fd39",
   "metadata": {},
   "outputs": [],
   "source": []
  }
 ],
 "metadata": {
  "kernelspec": {
   "display_name": "Python 3 (ipykernel)",
   "language": "python",
   "name": "python3"
  },
  "language_info": {
   "codemirror_mode": {
    "name": "ipython",
    "version": 3
   },
   "file_extension": ".py",
   "mimetype": "text/x-python",
   "name": "python",
   "nbconvert_exporter": "python",
   "pygments_lexer": "ipython3",
   "version": "3.7.13"
  }
 },
 "nbformat": 4,
 "nbformat_minor": 5
}
