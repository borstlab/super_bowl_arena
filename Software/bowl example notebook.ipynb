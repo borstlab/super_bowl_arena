{
 "cells": [
  {
   "cell_type": "code",
   "execution_count": 2,
   "id": "a0538eb4-951c-494d-bb70-8e397dba9290",
   "metadata": {
    "tags": []
   },
   "outputs": [],
   "source": [
    "from bowl_stimulate_class import *"
   ]
  },
  {
   "cell_type": "code",
   "execution_count": 3,
   "id": "735ac24c-be3c-4cfc-84e8-0ad7c87fcc72",
   "metadata": {
    "tags": []
   },
   "outputs": [
    {
     "name": "stdout",
     "output_type": "stream",
     "text": [
      "initialize Stimulation Pipeline <  Arena  >: xdim=, 720 ydim= 360 at position x= 7080 y= 2400\n",
      "98.64925857246271\n",
      "98.64869408379538\n",
      "98.3993877770924\n",
      "98.71312553463353\n",
      "96.89440282665484\n",
      "video framerate = 60\n",
      "y noise pixel =  28.0  x noise pixel =  36.0\n",
      "97.90711721696057\n"
     ]
    }
   ],
   "source": [
    "#path = \"C:/Users/sprech/videofile.avi\"\n",
    "\n",
    "Arena = Stimulation_Pipeline()\n",
    "Arena.show_dark_screen(5.0)\n",
    "#Arena.generate(LoomingDisk(Arena,center=(180,30)).run,radius=50,speed=30,distance=90,color_disc=255,color_bg=0,duration = 3)\n",
    "#Arena.generate(Arena.looming_disk,radius=50,speed=30,distance =90,center=(180,30),color_disc=255,color_bg=0,duration = 3)\n",
    "#Video = ShowVideo(Arena,path=path,framerate = 10)\n",
    "#Arena.generate(Video.run,duration = 3)\n",
    "\n",
    "#Video = ShowVideo(Arena,path=path,framerate = 60)\n",
    "#Arena.generate(Video.run,duration = 3)\n",
    "\n",
    "#Arena.generate(ShowVideo(Arena,path=path,framerate = 30).run,duration = 3,rot_offset=(0,30,15))\n",
    "#Arena.generate(ShowVerticalEdge(Arena).run,duration = 6,start = 90, speed = 30, color1 =0, color2 = 255)\n",
    "\n",
    "Arena.generate(ShowVerticalEdge(Arena).run,duration = 4,start = 90, speed = 50, color1 =0, color2 = 255,rot_offset=(0,30,0))\n",
    "Arena.generate(ShowVerticalEdge(Arena).run,duration = 4,start = 90, speed = 50, color1 =0, color2 = 255,rot_offset=(-45,15,0))\n",
    "Arena.generate(ShowVerticalEdge(Arena).run,duration = 4,start = 90, speed = 50, color1 =0, color2 = 255,rot_offset=(-90,0,0))\n",
    "\n",
    "#Arena.generate(ShowVerticalEdge(Arena).run,duration = 6,start = 90, speed = 30, color1 =0, color2 = 255,rot_offset=(90,0,0))\n",
    "#Arena.generate(ShowNoise(Arena,pixelsize=3,framerate = 30).run,duration = 5,rot_offset=(0,0,0))\n",
    "#Arena.generate(ShowNoise(Arena,pixelsize=2,framerate = 60).run,duration = 5,rot_offset=(0,0,0))\n",
    "\n",
    "\n",
    "\n",
    "#Arena.generate_rotational(Arena.generate_grating_sine_vertical(amplitude=100,offset=128,spatial_freq=30),duration=5,yaw=10)\n",
    "Arena.generate_rotational(Arena.generate_grating_vertical(color1=0,color2 =200,spatial_freq=30),duration=4,yaw=10,rot_offset=(60,10,0))\n",
    "#Arena.generate_rotational(Arena.generate_grating_vertical(color1=0,color2 =200,spatial_freq=30),duration=2,yaw=40,rot_offset=(60,10,0))\n",
    "#Arena.generate_rotational(Arena.generate_grating_vertical(color1=0,color2 =200,spatial_freq=30),duration=2,yaw=80,rot_offset=(60,10,0))\n",
    "Arena.generate_rotational(Arena.generate_grating_vertical(color1=0,color2 =200,spatial_freq=30),duration=4,yaw=120,rot_offset=(60,10,0))\n",
    "\n",
    "Arena.generate(ShowNoise(Arena,pixelsize=5,framerate = 60).run,duration = 4,rot_offset=(0,0,0))\n",
    "\n",
    "Arena.show_dark_screen(1.0)\n",
    "\n",
    "cv2.destroyAllWindows()\n",
    "key = cv2.waitKey(1)"
   ]
  },
  {
   "cell_type": "code",
   "execution_count": null,
   "id": "a9c0ab7c-1b6e-487f-8e80-ca5e14e228dd",
   "metadata": {},
   "outputs": [],
   "source": []
  }
 ],
 "metadata": {
  "kernelspec": {
   "display_name": "Python 3 (ipykernel)",
   "language": "python",
   "name": "python3"
  },
  "language_info": {
   "codemirror_mode": {
    "name": "ipython",
    "version": 3
   },
   "file_extension": ".py",
   "mimetype": "text/x-python",
   "name": "python",
   "nbconvert_exporter": "python",
   "pygments_lexer": "ipython3",
   "version": "3.7.13"
  }
 },
 "nbformat": 4,
 "nbformat_minor": 5
}
